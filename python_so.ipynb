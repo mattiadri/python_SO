{
 "cells": [
  {
   "cell_type": "markdown",
   "metadata": {},
   "source": [
    "### Python SO"
   ]
  },
  {
   "cell_type": "markdown",
   "metadata": {},
   "source": [
    "In this brief notebook we will discuss the use of python as support for elementary system operations. Then we will explore better the pd.read_excel function."
   ]
  },
  {
   "cell_type": "markdown",
   "metadata": {},
   "source": [
    "Python is not the best language program to handle OS dependent functionality, but instead it is very simple and ready to use. Pthon is also easy to install from https://www.python.org/, but I personally suggest to install https://www.anaconda.com/products/individual. It is a tool kit for data science and will install pandas too that we will use at the end of the notebook."
   ]
  },
  {
   "cell_type": "markdown",
   "metadata": {},
   "source": [
    "In the first example we can see the functions `os.getcwd()` and `os.chdir()`:"
   ]
  },
  {
   "cell_type": "code",
   "execution_count": 1,
   "metadata": {},
   "outputs": [
    {
     "name": "stdout",
     "output_type": "stream",
     "text": [
      "Current working directory before\n",
      "C:\\Users\\mattia.diiorio\\Desktop\\python_SO\n",
      "\n",
      "Current working directory before\n",
      "C:\\Users\\mattia.diiorio\\Desktop\n",
      "\n",
      "Current working directory before\n",
      "C:\\Users\\mattia.diiorio\\Desktop\\python_SO\n",
      "\n"
     ]
    }
   ],
   "source": [
    "import os\n",
    "\n",
    "# Get the current working directory\n",
    "def current_path():\n",
    "    print(\"Current working directory before\")\n",
    "    print(os.getcwd())\n",
    "    print()\n",
    "\n",
    "# Printing CWD before\n",
    "current_path()\n",
    "   \n",
    "# Changing the CWD\n",
    "os.chdir('../')\n",
    "   \n",
    "# Printing CWD after\n",
    "current_path()\n",
    "\n",
    "# Changing the CWD\n",
    "os.chdir('./python_SO')\n",
    "\n",
    "# Printing CWD after\n",
    "current_path()"
   ]
  },
  {
   "cell_type": "markdown",
   "metadata": {},
   "source": [
    "This can be very useful when we have to face relative path!\n",
    "\n",
    "Lets see the functions `os.makedirs()` and `os.rmdir()`  to create and delete directory:"
   ]
  },
  {
   "cell_type": "code",
   "execution_count": 2,
   "metadata": {},
   "outputs": [
    {
     "name": "stdout",
     "output_type": "stream",
     "text": [
      "Directory 'An_example' created\n",
      "Directory 'in an example' created\n",
      "Directory 'An_example\\in an example' deleted\n"
     ]
    }
   ],
   "source": [
    "# Name of the directory \n",
    "directory = \"An_example\"\n",
    "subdirectory = 'in an example'\n",
    "\n",
    "# Create the directory\n",
    "os.makedirs(directory)\n",
    "print(\"Directory '% s' created\" % directory )\n",
    "\n",
    "# Path\n",
    "path = os.path.join(directory,subdirectory) # Why this function is awesome? hint print the path\n",
    "\n",
    "# Create the directory\n",
    "os.makedirs(path)\n",
    "print(\"Directory '% s' created\" % subdirectory )\n",
    "\n",
    "# Delete the directory\n",
    "os.rmdir(path)\n",
    "print(\"Directory '% s' deleted\" % path )"
   ]
  },
  {
   "cell_type": "markdown",
   "metadata": {},
   "source": [
    "**Exercise 1.** Try to delete the folder 'An_example'"
   ]
  },
  {
   "cell_type": "code",
   "execution_count": 3,
   "metadata": {},
   "outputs": [],
   "source": [
    "# Solution\n",
    "\n",
    "os.rmdir(directory)\n",
    "\n",
    "# What happen if there is someting in the directory?"
   ]
  },
  {
   "cell_type": "markdown",
   "metadata": {},
   "source": [
    "We talked about directories lets see something about files: "
   ]
  },
  {
   "cell_type": "code",
   "execution_count": 4,
   "metadata": {},
   "outputs": [
    {
     "name": "stdout",
     "output_type": "stream",
     "text": [
      "\n"
     ]
    }
   ],
   "source": [
    "f = open(\"example.txt\", \"w\") # Open a file in write modality means create it!!\n",
    "f.write(\"Hello\")\n",
    "f.close\n",
    "file = open(\"example.txt\", 'r')\n",
    "text = file.read()\n",
    "print(text)"
   ]
  },
  {
   "cell_type": "markdown",
   "metadata": {},
   "source": [
    "We have different option when we open a file:\n",
    "* w -> write\n",
    "* r -> read\n",
    "* a -> append\n",
    "\n",
    "Also append create the file if it doesn't exist"
   ]
  },
  {
   "cell_type": "markdown",
   "metadata": {},
   "source": [
    "Let's see and example of manage an exception in reading file "
   ]
  },
  {
   "cell_type": "code",
   "execution_count": 5,
   "metadata": {},
   "outputs": [
    {
     "name": "stdout",
     "output_type": "stream",
     "text": [
      "Problem reading: non_esisto.txt\n"
     ]
    }
   ],
   "source": [
    "try:\n",
    "    # If the file does not exist,\n",
    "    # then it would throw an IOError\n",
    "    filename = 'non_esisto.txt'\n",
    "    f = open(filename, 'r')\n",
    "    text = f.read()\n",
    "    f.close()\n",
    " \n",
    "# any of the above lines throws IOError.   \n",
    "\n",
    "except IOError:\n",
    " \n",
    "    # print(os.error) will <class 'OSError'>\n",
    "    print('Problem reading: ' + filename)"
   ]
  },
  {
   "cell_type": "markdown",
   "metadata": {},
   "source": [
    "We can analyze also the size of a file:"
   ]
  },
  {
   "cell_type": "code",
   "execution_count": 6,
   "metadata": {},
   "outputs": [
    {
     "data": {
      "text/plain": [
       "62667"
      ]
     },
     "execution_count": 6,
     "metadata": {},
     "output_type": "execute_result"
    }
   ],
   "source": [
    "os.stat('re.png').st_size # KB"
   ]
  },
  {
   "cell_type": "markdown",
   "metadata": {},
   "source": [
    "and similarly its data creation:"
   ]
  },
  {
   "cell_type": "code",
   "execution_count": 7,
   "metadata": {},
   "outputs": [
    {
     "data": {
      "text/plain": [
       "datetime.datetime(2021, 7, 22, 16, 21, 54, 351205)"
      ]
     },
     "execution_count": 7,
     "metadata": {},
     "output_type": "execute_result"
    }
   ],
   "source": [
    "import datetime as dt\n",
    "dt.datetime.fromtimestamp(os.path.getctime('re.png'))"
   ]
  },
  {
   "cell_type": "markdown",
   "metadata": {},
   "source": [
    "Here we have to use the lib `datetime` to convert the second from creation in a real date "
   ]
  },
  {
   "cell_type": "markdown",
   "metadata": {},
   "source": [
    "Let's see how we can handle path as string. I suggest you to use:"
   ]
  },
  {
   "cell_type": "code",
   "execution_count": 8,
   "metadata": {},
   "outputs": [],
   "source": [
    "path=r'data/' # here r indicate that special characters should not be evaluated."
   ]
  },
  {
   "cell_type": "markdown",
   "metadata": {},
   "source": [
    "In general best way of manage path is:"
   ]
  },
  {
   "cell_type": "markdown",
   "metadata": {},
   "source": [
    "`path_file = os.sep.join([path_dir, filename])`"
   ]
  },
  {
   "cell_type": "markdown",
   "metadata": {},
   "source": [
    "Where `os.sep` is independent from the SO!"
   ]
  },
  {
   "cell_type": "markdown",
   "metadata": {},
   "source": [
    "We can also list all item in a folder:"
   ]
  },
  {
   "cell_type": "code",
   "execution_count": 9,
   "metadata": {},
   "outputs": [
    {
     "data": {
      "text/plain": [
       "['file_0.csv',\n",
       " 'file_1.csv',\n",
       " 'file_10.csv',\n",
       " 'file_11.csv',\n",
       " 'file_12.csv',\n",
       " 'file_13.csv',\n",
       " 'file_14.csv',\n",
       " 'file_15.csv',\n",
       " 'file_16.csv',\n",
       " 'file_17.csv',\n",
       " 'file_18.csv',\n",
       " 'file_19.csv',\n",
       " 'file_2.csv',\n",
       " 'file_20.csv',\n",
       " 'file_3.csv',\n",
       " 'file_4.csv',\n",
       " 'file_5.csv',\n",
       " 'file_6.csv',\n",
       " 'file_7.csv',\n",
       " 'file_8.csv',\n",
       " 'file_9.csv',\n",
       " 'sample']"
      ]
     },
     "execution_count": 9,
     "metadata": {},
     "output_type": "execute_result"
    }
   ],
   "source": [
    "os.listdir(path)"
   ]
  },
  {
   "cell_type": "markdown",
   "metadata": {},
   "source": [
    " Now we will introduce an awesome lib to list the file of a folder  "
   ]
  },
  {
   "cell_type": "markdown",
   "metadata": {},
   "source": [
    "with the lib `glob` you can express pathname with regular expression for example:"
   ]
  },
  {
   "cell_type": "code",
   "execution_count": 10,
   "metadata": {},
   "outputs": [
    {
     "data": {
      "text/plain": [
       "['data\\\\file_0.csv',\n",
       " 'data\\\\file_1.csv',\n",
       " 'data\\\\file_10.csv',\n",
       " 'data\\\\file_11.csv',\n",
       " 'data\\\\file_12.csv',\n",
       " 'data\\\\file_13.csv',\n",
       " 'data\\\\file_14.csv',\n",
       " 'data\\\\file_15.csv',\n",
       " 'data\\\\file_16.csv',\n",
       " 'data\\\\file_17.csv',\n",
       " 'data\\\\file_18.csv',\n",
       " 'data\\\\file_19.csv',\n",
       " 'data\\\\file_2.csv',\n",
       " 'data\\\\file_20.csv',\n",
       " 'data\\\\file_3.csv',\n",
       " 'data\\\\file_4.csv',\n",
       " 'data\\\\file_5.csv',\n",
       " 'data\\\\file_6.csv',\n",
       " 'data\\\\file_7.csv',\n",
       " 'data\\\\file_8.csv',\n",
       " 'data\\\\file_9.csv']"
      ]
     },
     "execution_count": 10,
     "metadata": {},
     "output_type": "execute_result"
    }
   ],
   "source": [
    "from glob import glob\n",
    "\n",
    "glob(path+'*.csv')"
   ]
  },
  {
   "cell_type": "markdown",
   "metadata": {},
   "source": [
    "This are some examples for the use of regular expression:"
   ]
  },
  {
   "cell_type": "markdown",
   "metadata": {},
   "source": [
    "<img src=\"re.png\">"
   ]
  },
  {
   "cell_type": "markdown",
   "metadata": {},
   "source": [
    "In this case `*.csv` means all files that end with `.csv` .The function return a list and this is very powerful"
   ]
  },
  {
   "cell_type": "markdown",
   "metadata": {},
   "source": [
    "**ex** used for renaming:"
   ]
  },
  {
   "cell_type": "code",
   "execution_count": 11,
   "metadata": {},
   "outputs": [],
   "source": [
    "new_path=r'data/sample/'\n",
    "\n",
    "for i in glob(path+'*.csv'):\n",
    "    os.rename(i,new_path+os.path.basename(i))"
   ]
  },
  {
   "cell_type": "markdown",
   "metadata": {},
   "source": [
    "then we move back:"
   ]
  },
  {
   "cell_type": "code",
   "execution_count": 12,
   "metadata": {},
   "outputs": [],
   "source": [
    "for i in glob('data/**/*.csv'):\n",
    "    os.replace(i, path+os.path.basename(i))"
   ]
  },
  {
   "cell_type": "markdown",
   "metadata": {},
   "source": [
    "**ex** used in combination with pandas: "
   ]
  },
  {
   "cell_type": "code",
   "execution_count": 13,
   "metadata": {},
   "outputs": [],
   "source": [
    "import pandas as pd\n",
    "dfs=[pd.read_csv(i,index_col=0,parse_dates=True) for i in glob('data/*.csv')]\n",
    "# Who guess what is dfs? and how is called last expression?\n",
    "\n",
    "# to join them use:\n",
    "df=pd.concat(dfs)"
   ]
  },
  {
   "cell_type": "markdown",
   "metadata": {},
   "source": [
    "Now we will explore some functions of `pandas` that help us to mange excel files."
   ]
  },
  {
   "cell_type": "code",
   "execution_count": 14,
   "metadata": {},
   "outputs": [
    {
     "data": {
      "text/html": [
       "<div>\n",
       "<style scoped>\n",
       "    .dataframe tbody tr th:only-of-type {\n",
       "        vertical-align: middle;\n",
       "    }\n",
       "\n",
       "    .dataframe tbody tr th {\n",
       "        vertical-align: top;\n",
       "    }\n",
       "\n",
       "    .dataframe thead th {\n",
       "        text-align: right;\n",
       "    }\n",
       "</style>\n",
       "<table border=\"1\" class=\"dataframe\">\n",
       "  <thead>\n",
       "    <tr style=\"text-align: right;\">\n",
       "      <th></th>\n",
       "      <th>feature1</th>\n",
       "      <th>feature2</th>\n",
       "      <th>feature3</th>\n",
       "    </tr>\n",
       "  </thead>\n",
       "  <tbody>\n",
       "    <tr>\n",
       "      <th>1991-12-25 00:00:00</th>\n",
       "      <td>0.397651</td>\n",
       "      <td>0.156372</td>\n",
       "      <td>0.773794</td>\n",
       "    </tr>\n",
       "    <tr>\n",
       "      <th>1991-12-25 00:01:00</th>\n",
       "      <td>0.988181</td>\n",
       "      <td>0.269590</td>\n",
       "      <td>0.799375</td>\n",
       "    </tr>\n",
       "    <tr>\n",
       "      <th>1991-12-25 00:02:00</th>\n",
       "      <td>0.717102</td>\n",
       "      <td>0.374019</td>\n",
       "      <td>0.494222</td>\n",
       "    </tr>\n",
       "    <tr>\n",
       "      <th>1991-12-25 00:03:00</th>\n",
       "      <td>0.106270</td>\n",
       "      <td>0.939622</td>\n",
       "      <td>0.426496</td>\n",
       "    </tr>\n",
       "    <tr>\n",
       "      <th>1991-12-25 00:04:00</th>\n",
       "      <td>0.259952</td>\n",
       "      <td>0.691947</td>\n",
       "      <td>0.819431</td>\n",
       "    </tr>\n",
       "  </tbody>\n",
       "</table>\n",
       "</div>"
      ],
      "text/plain": [
       "                     feature1  feature2  feature3\n",
       "1991-12-25 00:00:00  0.397651  0.156372  0.773794\n",
       "1991-12-25 00:01:00  0.988181  0.269590  0.799375\n",
       "1991-12-25 00:02:00  0.717102  0.374019  0.494222\n",
       "1991-12-25 00:03:00  0.106270  0.939622  0.426496\n",
       "1991-12-25 00:04:00  0.259952  0.691947  0.819431"
      ]
     },
     "execution_count": 14,
     "metadata": {},
     "output_type": "execute_result"
    }
   ],
   "source": [
    "# This is our DataFrame\n",
    "df.head()"
   ]
  },
  {
   "cell_type": "code",
   "execution_count": 15,
   "metadata": {},
   "outputs": [],
   "source": [
    "# We can save DataFrame in .xlsx file\n",
    "df.to_excel('df.xlsx',sheet_name='Sheet_test',startrow=0, startcol=0)"
   ]
  },
  {
   "cell_type": "code",
   "execution_count": 16,
   "metadata": {},
   "outputs": [],
   "source": [
    "# and similarly we can read too\n",
    "my_df=pd.read_excel('df.xlsx',index_col=0,convert_float=True,# is True by default and is used to convert the decimal \n",
    "                    thousands=None) # is None by default and is used when thousands are counted with points"
   ]
  },
  {
   "cell_type": "code",
   "execution_count": 18,
   "metadata": {},
   "outputs": [],
   "source": [
    "os.remove('df.xlsx')"
   ]
  },
  {
   "cell_type": "code",
   "execution_count": 19,
   "metadata": {},
   "outputs": [
    {
     "data": {
      "text/html": [
       "<div>\n",
       "<style scoped>\n",
       "    .dataframe tbody tr th:only-of-type {\n",
       "        vertical-align: middle;\n",
       "    }\n",
       "\n",
       "    .dataframe tbody tr th {\n",
       "        vertical-align: top;\n",
       "    }\n",
       "\n",
       "    .dataframe thead th {\n",
       "        text-align: right;\n",
       "    }\n",
       "</style>\n",
       "<table border=\"1\" class=\"dataframe\">\n",
       "  <thead>\n",
       "    <tr style=\"text-align: right;\">\n",
       "      <th></th>\n",
       "      <th>feature1</th>\n",
       "      <th>feature2</th>\n",
       "      <th>feature3</th>\n",
       "    </tr>\n",
       "  </thead>\n",
       "  <tbody>\n",
       "    <tr>\n",
       "      <th>1991-12-25 00:00:00</th>\n",
       "      <td>0.397651</td>\n",
       "      <td>0.156372</td>\n",
       "      <td>0.773794</td>\n",
       "    </tr>\n",
       "    <tr>\n",
       "      <th>1991-12-25 00:01:00</th>\n",
       "      <td>0.988181</td>\n",
       "      <td>0.269590</td>\n",
       "      <td>0.799375</td>\n",
       "    </tr>\n",
       "    <tr>\n",
       "      <th>1991-12-25 00:02:00</th>\n",
       "      <td>0.717102</td>\n",
       "      <td>0.374019</td>\n",
       "      <td>0.494222</td>\n",
       "    </tr>\n",
       "    <tr>\n",
       "      <th>1991-12-25 00:03:00</th>\n",
       "      <td>0.106270</td>\n",
       "      <td>0.939622</td>\n",
       "      <td>0.426496</td>\n",
       "    </tr>\n",
       "    <tr>\n",
       "      <th>1991-12-25 00:04:00</th>\n",
       "      <td>0.259952</td>\n",
       "      <td>0.691947</td>\n",
       "      <td>0.819431</td>\n",
       "    </tr>\n",
       "  </tbody>\n",
       "</table>\n",
       "</div>"
      ],
      "text/plain": [
       "                     feature1  feature2  feature3\n",
       "1991-12-25 00:00:00  0.397651  0.156372  0.773794\n",
       "1991-12-25 00:01:00  0.988181  0.269590  0.799375\n",
       "1991-12-25 00:02:00  0.717102  0.374019  0.494222\n",
       "1991-12-25 00:03:00  0.106270  0.939622  0.426496\n",
       "1991-12-25 00:04:00  0.259952  0.691947  0.819431"
      ]
     },
     "execution_count": 19,
     "metadata": {},
     "output_type": "execute_result"
    }
   ],
   "source": [
    "my_df.head()"
   ]
  }
 ],
 "metadata": {
  "kernelspec": {
   "display_name": "Python 3",
   "language": "python",
   "name": "python3"
  },
  "language_info": {
   "codemirror_mode": {
    "name": "ipython",
    "version": 3
   },
   "file_extension": ".py",
   "mimetype": "text/x-python",
   "name": "python",
   "nbconvert_exporter": "python",
   "pygments_lexer": "ipython3",
   "version": "3.8.8"
  }
 },
 "nbformat": 4,
 "nbformat_minor": 4
}
